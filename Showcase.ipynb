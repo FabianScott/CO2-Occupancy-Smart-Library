{
 "cells": [
  {
   "cell_type": "code",
   "execution_count": 19,
   "metadata": {
    "pycharm": {
     "name": "#%%\n"
    }
   },
   "outputs": [],
   "source": [
    "from Functions import simple_models_hold_out, hold_out, \\\n",
    "adjacent_co2, load_data, load_occupancy, load_lists, plot_estimates"
   ]
  },
  {
   "cell_type": "markdown",
   "metadata": {},
   "source": [
    "To load a dd_list, we first need to find the start and end time for\n",
    "the corresponding occupancy:"
   ]
  },
  {
   "cell_type": "code",
   "execution_count": 21,
   "metadata": {
    "pycharm": {
     "name": "#%%\n"
    }
   },
   "outputs": [
    {
     "data": {
      "text/plain": [
       "(28,\n",
       " [17,\n",
       "  13,\n",
       "  11,\n",
       "  11,\n",
       "  13,\n",
       "  16,\n",
       "  16,\n",
       "  13,\n",
       "  14,\n",
       "  13,\n",
       "  13,\n",
       "  19,\n",
       "  17,\n",
       "  17,\n",
       "  17,\n",
       "  15,\n",
       "  17,\n",
       "  15,\n",
       "  15,\n",
       "  15],\n",
       " [])"
      ]
     },
     "execution_count": 21,
     "metadata": {},
     "output_type": "execute_result"
    }
   ],
   "source": [
    "dates = ['2022_24_11', '2022_30_11', '2022_07_12',  '2022_09_12', '2022_14_12']\n",
    "\n",
    "filename_n = 'data/N_' + dates[0] + '.csv'\n",
    "N_list, start_time, end_time = load_occupancy(filename_n)\n",
    "len(N_list), N_list[-1], N_list[2]\n",
    "\n"
   ]
  },
  {
   "cell_type": "markdown",
   "metadata": {},
   "source": [
    "The N_list from load occupancy contains n_zones + 1 lists of occupancy\n",
    "counted in the period, and is simply empty if the zone does not have data.\n",
    "Along with this, we also got a start and end time which is now used to find\n",
    "the correponding CO2 levels:"
   ]
  },
  {
   "cell_type": "code",
   "execution_count": 24,
   "metadata": {},
   "outputs": [
    {
     "data": {
      "text/plain": [
       "(28,\n",
       " [[datetime.datetime(2022, 11, 24, 11, 0), 612.1185266332714],\n",
       "  (datetime.datetime(2022, 11, 24, 11, 15), 1058.8146743982488),\n",
       "  (datetime.datetime(2022, 11, 24, 11, 30), 1059.31337984861)],\n",
       " [[datetime.datetime(2022, 11, 24, 11, 0), 555.5901475703059],\n",
       "  (datetime.datetime(2022, 11, 24, 11, 15), 637.0009125158241),\n",
       "  (datetime.datetime(2022, 11, 24, 11, 30), 657.7038489323096)])"
      ]
     },
     "execution_count": 24,
     "metadata": {},
     "output_type": "execute_result"
    }
   ],
   "source": [
    "filename_co2 = 'data/co2_' + dates[0] + '.csv'\n",
    "dd_list = load_data(filename_co2, start_time, end_time)\n",
    "len(dd_list), dd_list[-1][:3], dd_list[2][:3]\n"
   ]
  },
  {
   "cell_type": "markdown",
   "metadata": {},
   "source": [
    "The dd_list is of the same length as the N_list, but contains tuples of\n",
    "(time, co2) for each zone. The co2 level is a smoothed estimate of the true level based on measurements up to each occupancy count. One can specify whether to use an exponential moving average filter or a Kalman filter for this."
   ]
  },
  {
   "cell_type": "markdown",
   "source": [
    "When dealing with more than one consecutive function, the structure becomes a bit more complex. Instead of each zone simply containing the list of data, it must now contain a list of periods, each of which is an entry like the above N_list and dd_list. For this we use"
   ],
   "metadata": {
    "collapsed": false,
    "pycharm": {
     "name": "#%% md\n"
    }
   }
  },
  {
   "cell_type": "code",
   "execution_count": null,
   "outputs": [],
   "source": [
    "N_list, dd_list = load_lists(dates)"
   ],
   "metadata": {
    "collapsed": false,
    "pycharm": {
     "name": "#%%\n"
    }
   }
  },
  {
   "cell_type": "code",
   "execution_count": null,
   "outputs": [],
   "source": [],
   "metadata": {
    "collapsed": false,
    "pycharm": {
     "name": "#%%\n"
    }
   }
  },
  {
   "cell_type": "code",
   "execution_count": null,
   "outputs": [],
   "source": [],
   "metadata": {
    "collapsed": false,
    "pycharm": {
     "name": "#%%\n"
    }
   }
  },
  {
   "cell_type": "markdown",
   "metadata": {},
   "source": [
    "When dealing with more than one consecutive function, the structure becomes a bit more complex. Instead of each zone simply containing the list of data, it must now contain a list of periods, each of which is an entry like the above N_list and dd_list. For this we use"
   ]
  },
  {
   "cell_type": "code",
   "execution_count": null,
   "metadata": {},
   "outputs": [],
   "source": [
    "N_list, dd_list = load_lists(dates)"
   ]
  },
  {
   "cell_type": "code",
   "execution_count": null,
   "metadata": {},
   "outputs": [],
   "source": []
  },
  {
   "cell_type": "code",
   "execution_count": null,
   "metadata": {},
   "outputs": [],
   "source": []
  }
 ],
 "metadata": {
  "kernelspec": {
   "display_name": "Python 3 (ipykernel)",
   "language": "python",
   "name": "python3"
  },
  "language_info": {
   "codemirror_mode": {
    "name": "ipython",
    "version": 3
   },
   "file_extension": ".py",
   "mimetype": "text/x-python",
   "name": "python",
   "nbconvert_exporter": "python",
   "pygments_lexer": "ipython3",
   "version": "3.10.5"
  }
 },
 "nbformat": 4,
 "nbformat_minor": 1
}