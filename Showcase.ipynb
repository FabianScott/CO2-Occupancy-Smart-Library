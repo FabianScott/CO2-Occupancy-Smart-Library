{
 "cells": [
  {
   "cell_type": "code",
   "execution_count": 1,
   "metadata": {
    "pycharm": {
     "name": "#%%\n"
    }
   },
   "outputs": [],
   "source": [
    "from Functions import simple_models_hold_out, hold_out, optimise_occupancy, \\\n",
    "adjacent_co2, load_data, load_occupancy, load_lists, plot_estimates\n",
    "import numpy as np"
   ]
  },
  {
   "cell_type": "markdown",
   "metadata": {
    "pycharm": {
     "name": "#%% md\n"
    }
   },
   "source": [
    "To load a dd_list, we first need to find the start and end time for\n",
    "the corresponding occupancy:"
   ]
  },
  {
   "cell_type": "code",
   "execution_count": 2,
   "metadata": {
    "pycharm": {
     "name": "#%%\n"
    }
   },
   "outputs": [
    {
     "data": {
      "text/plain": [
       "(28,\n",
       " array([17, 13, 11, 11, 13, 16, 16, 13, 14, 13, 13, 19, 17, 17, 17, 15, 17,\n",
       "        15, 15, 15]),\n",
       " [])"
      ]
     },
     "execution_count": 2,
     "metadata": {},
     "output_type": "execute_result"
    }
   ],
   "source": [
    "dates = ['2022_24_11', '2022_30_11', '2022_07_12',  '2022_09_12', '2022_14_12']\n",
    "\n",
    "filename_n = 'data/N_' + dates[0] + '.csv'\n",
    "N_list, start_time, end_time = load_occupancy(filename_n, n_zones=27)\n",
    "len(N_list), np.array(N_list[-1]), N_list[2]"
   ]
  },
  {
   "cell_type": "markdown",
   "metadata": {
    "pycharm": {
     "name": "#%% md\n"
    }
   },
   "source": [
    "The N_list from load occupancy contains n_zones + 1 lists of occupancy\n",
    "counted in the period, and is simply empty if the zone does not have data.\n",
    "Along with this, we also got a start and end time which is now used to find\n",
    "the correponding CO2 levels:"
   ]
  },
  {
   "cell_type": "code",
   "execution_count": 3,
   "metadata": {
    "pycharm": {
     "name": "#%%\n"
    }
   },
   "outputs": [
    {
     "data": {
      "text/plain": [
       "(28,\n",
       " [[datetime.datetime(2022, 11, 24, 11, 0), 612.1185266332714],\n",
       "  (datetime.datetime(2022, 11, 24, 11, 15), 1058.8146743982488),\n",
       "  (datetime.datetime(2022, 11, 24, 11, 30), 1059.31337984861)],\n",
       " [[datetime.datetime(2022, 11, 24, 11, 0), 555.5901475703059],\n",
       "  (datetime.datetime(2022, 11, 24, 11, 15), 637.0009125158241),\n",
       "  (datetime.datetime(2022, 11, 24, 11, 30), 657.7038489323096)])"
      ]
     },
     "execution_count": 3,
     "metadata": {},
     "output_type": "execute_result"
    }
   ],
   "source": [
    "filename_co2 = 'data/co2_' + dates[0] + '.csv'\n",
    "dd_list = load_data(filename_co2, start_time, end_time)\n",
    "len(dd_list), dd_list[-1][:3], dd_list[2][:3]"
   ]
  },
  {
   "cell_type": "markdown",
   "metadata": {
    "pycharm": {
     "name": "#%% md\n"
    }
   },
   "source": [
    "The dd_list is of the same length as the N_list, but contains tuples of\n",
    "(time, co2) for each zone. The co2 level is a smoothed estimate of the true level based on measurements up to each occupancy count. One can specify whether to use an exponential moving average filter or a Kalman filter for this."
   ]
  },
  {
   "cell_type": "markdown",
   "metadata": {
    "pycharm": {
     "name": "#%% md\n"
    }
   },
   "source": [
    "When dealing with more than one consecutive function, the structure becomes a bit more complex. Instead of each zone simply containing the list of data, it must now contain a list of periods, each of which is an entry like the above N_list and dd_list. For this we use"
   ]
  },
  {
   "cell_type": "code",
   "execution_count": 4,
   "metadata": {
    "pycharm": {
     "name": "#%%\n"
    }
   },
   "outputs": [
    {
     "data": {
      "text/plain": [
       "(array([ 0,  1,  3,  5,  7,  9,  9, 13, 16, 16, 13, 16, 15, 15, 16, 15, 17,\n",
       "        14, 11, 13, 14, 15, 14, 15, 15, 17, 15, 15, 16, 16, 15, 15, 13, 15,\n",
       "        15]),\n",
       " 5)"
      ]
     },
     "execution_count": 4,
     "metadata": {},
     "output_type": "execute_result"
    }
   ],
   "source": [
    "N_list, dd_list = load_lists(dates)\n",
    "np.array(N_list[-1][-1]), len(N_list[-1])"
   ]
  },
  {
   "cell_type": "markdown",
   "source": [
    "There are 5 periods in this data. This can now be used to get optimal parameters for estimating both CO2 and occupancy. First of all, to calculate an estimate we pass a set of parameters along with the co2, adjacent co2 and N_lists to the estimate functions. We find the adjacent CO2 levels first"
   ],
   "metadata": {
    "collapsed": false,
    "pycharm": {
     "name": "#%% md\n"
    }
   }
  },
  {
   "cell_type": "code",
   "execution_count": null,
   "outputs": [],
   "source": [
    "# Behind the scenes, there is an id_map dictionary which has a zone number for key and maps it to\n",
    "# its neighbour's zone numbers. This map can be changed in 'constants.py'\n",
    "adj_list = adjacent_co2(dd_list, use_adjacent=False)\n",
    "print(np.array(adj_list[-1][-1])) # 0's if we aren't using the replacement co2\n",
    "adj_list = adjacent_co2(dd_list)\n",
    "print(np.array(adj_list[-1][-1])) # use replacement co2 by default"
   ],
   "metadata": {
    "collapsed": false,
    "pycharm": {
     "name": "#%%\n"
    }
   }
  },
  {
   "cell_type": "markdown",
   "source": [
    "Now to producing estimates, the parameters used are from optimisation done on the data available in the repository, but must simply be a tuple-like of length 4. Variable names here mirror those inside functions in the rest of the code."
   ],
   "metadata": {
    "collapsed": false,
    "pycharm": {
     "name": "#%% md\n"
    }
   }
  },
  {
   "cell_type": "code",
   "execution_count": null,
   "outputs": [],
   "source": [
    "import pandas as pd\n",
    "from Functions import N_estimate, C_estimate\n",
    "N, C, C_adj = N_list[-1][-1], np.array(dd_list[-1][-1])[:, 1], adj_list[-1][-1]\n",
    "V = 150\n",
    "parameters = pd.read_csv('parameters/testing_2022_07_12.csv').values\n",
    "\n",
    "C_est = C_estimate(x=parameters[-1][1:], C=C, C_adj=C_adj, N=N, V=V)\n",
    "N_est = N_estimate(x=parameters[-1][1:], C=C, C_adj=C_adj, V=V)\n",
    "\n",
    "print(np.round(C_est - np.array(C[1:], dtype=int), 0), '\\n', N_est - N[1:])"
   ],
   "metadata": {
    "collapsed": false,
    "pycharm": {
     "name": "#%%\n"
    }
   }
  },
  {
   "cell_type": "markdown",
   "source": [
    "With these results, we can now go on to doing the optimisation ourselves. This is done by using the following code:"
   ],
   "metadata": {
    "collapsed": false,
    "pycharm": {
     "name": "#%% md\n"
    }
   }
  },
  {
   "cell_type": "markdown",
   "source": [
    "N_list, dd_list = load_lists(dates)\n",
    "optimise_occupancy(dd_list, N_list)"
   ],
   "metadata": {
    "collapsed": false,
    "pycharm": {
     "name": "#%% md\n"
    }
   }
  },
  {
   "cell_type": "markdown",
   "source": [
    "By specifying the parameter 'filename_parameters', these are saved in a .cvs file"
   ],
   "metadata": {
    "collapsed": false,
    "pycharm": {
     "name": "#%% md\n"
    }
   }
  },
  {
   "cell_type": "markdown",
   "source": [
    "This all comes together to do hold out cross-validation in the function hold_out:"
   ],
   "metadata": {
    "collapsed": false,
    "pycharm": {
     "name": "#%% md\n"
    }
   }
  },
  {
   "cell_type": "code",
   "execution_count": null,
   "outputs": [],
   "source": [
    "hold_out(dates, plot=True, filename_parameters='testing')\n"
   ],
   "metadata": {
    "collapsed": false,
    "pycharm": {
     "name": "#%%\n"
    }
   }
  },
  {
   "cell_type": "markdown",
   "source": [
    "The hold_out method has a cousin which implements various simple model for estimating occupancy"
   ],
   "metadata": {
    "collapsed": false,
    "pycharm": {
     "name": "#%% md\n"
    }
   }
  },
  {
   "cell_type": "code",
   "execution_count": null,
   "outputs": [],
   "source": [
    "# The linear regression model only shows a scatter plot of the data\n",
    "simple_models_hold_out(dates, method='l', plot=True, plot_scatter=True)\n"
   ],
   "metadata": {
    "collapsed": false,
    "pycharm": {
     "name": "#%%\n"
    }
   }
  },
  {
   "cell_type": "markdown",
   "source": [
    "The hold_out method has a cousin which implements various simple model for estimating occupancy"
   ],
   "metadata": {
    "collapsed": false,
    "pycharm": {
     "name": "#%% md\n"
    }
   }
  },
  {
   "cell_type": "code",
   "execution_count": null,
   "outputs": [],
   "source": [
    "# The linear regression model only shows a scatter plot of the data\n",
    "simple_models_hold_out(dates, method='l', plot=True, plot_scatter=True)\n"
   ],
   "metadata": {
    "collapsed": false,
    "pycharm": {
     "name": "#%%\n"
    }
   }
  }
 ],
 "metadata": {
  "kernelspec": {
   "display_name": "Python 3 (ipykernel)",
   "language": "python",
   "name": "python3"
  },
  "language_info": {
   "codemirror_mode": {
    "name": "ipython",
    "version": 3
   },
   "file_extension": ".py",
   "mimetype": "text/x-python",
   "name": "python",
   "nbconvert_exporter": "python",
   "pygments_lexer": "ipython3",
   "version": "3.10.5"
  }
 },
 "nbformat": 4,
 "nbformat_minor": 1
}