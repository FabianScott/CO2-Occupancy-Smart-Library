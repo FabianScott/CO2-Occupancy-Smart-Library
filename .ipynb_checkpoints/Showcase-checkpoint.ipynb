{
 "cells": [
  {
   "cell_type": "code",
   "execution_count": 1,
   "metadata": {
    "pycharm": {
     "name": "#%%\n"
    }
   },
   "outputs": [],
   "source": [
    "from Functions import simple_models_hold_out, hold_out, optimise_occupancy, \\\n",
    "adjacent_co2, load_data, load_occupancy, load_lists, plot_estimates\n",
    "import numpy as np"
   ]
  },
  {
   "cell_type": "markdown",
   "metadata": {
    "pycharm": {
     "name": "#%% md\n"
    }
   },
   "source": [
    "To load a dd_list, we first need to find the start and end time for\n",
    "the corresponding occupancy:"
   ]
  },
  {
   "cell_type": "code",
   "execution_count": 2,
   "metadata": {
    "pycharm": {
     "name": "#%%\n"
    }
   },
   "outputs": [
    {
     "data": {
      "text/plain": [
       "(28,\n",
       " array([17, 13, 11, 11, 13, 16, 16, 13, 14, 13, 13, 19, 17, 17, 17, 15, 17,\n",
       "        15, 15, 15]),\n",
       " [])"
      ]
     },
     "execution_count": 2,
     "metadata": {},
     "output_type": "execute_result"
    }
   ],
   "source": [
    "dates = ['2022_24_11', '2022_30_11', '2022_07_12',  '2022_09_12', '2022_14_12']\n",
    "\n",
    "filename_n = 'data/N_' + dates[0] + '.csv'\n",
    "N_list, start_time, end_time = load_occupancy(filename_n, n_zones=27)\n",
    "len(N_list), np.array(N_list[-1]), N_list[2]"
   ]
  },
  {
   "cell_type": "markdown",
   "metadata": {
    "pycharm": {
     "name": "#%% md\n"
    }
   },
   "source": [
    "The N_list from load occupancy contains n_zones + 1 lists of occupancy\n",
    "counted in the period, and is simply empty if the zone does not have data.\n",
    "Along with this, we also got a start and end time which is now used to find\n",
    "the correponding CO2 levels:"
   ]
  },
  {
   "cell_type": "code",
   "execution_count": 3,
   "metadata": {
    "pycharm": {
     "name": "#%%\n"
    }
   },
   "outputs": [
    {
     "data": {
      "text/plain": [
       "(28,\n",
       " [[datetime.datetime(2022, 11, 24, 11, 0), 612.1185266332714],\n",
       "  (datetime.datetime(2022, 11, 24, 11, 15), 1058.8146743982488),\n",
       "  (datetime.datetime(2022, 11, 24, 11, 30), 1059.31337984861)],\n",
       " [[datetime.datetime(2022, 11, 24, 11, 0), 555.5901475703059],\n",
       "  (datetime.datetime(2022, 11, 24, 11, 15), 637.0009125158241),\n",
       "  (datetime.datetime(2022, 11, 24, 11, 30), 657.7038489323096)])"
      ]
     },
     "execution_count": 3,
     "metadata": {},
     "output_type": "execute_result"
    }
   ],
   "source": [
    "filename_co2 = 'data/co2_' + dates[0] + '.csv'\n",
    "dd_list = load_data(filename_co2, start_time, end_time)\n",
    "len(dd_list), dd_list[-1][:3], dd_list[2][:3]"
   ]
  },
  {
   "cell_type": "markdown",
   "metadata": {
    "pycharm": {
     "name": "#%% md\n"
    }
   },
   "source": [
    "The dd_list is of the same length as the N_list, but contains tuples of\n",
    "(time, co2) for each zone. The co2 level is a smoothed estimate of the true level based on measurements up to each occupancy count. One can specify whether to use an exponential moving average filter or a Kalman filter for this."
   ]
  },
  {
   "cell_type": "markdown",
   "metadata": {
    "pycharm": {
     "name": "#%% md\n"
    }
   },
   "source": [
    "When dealing with more than one consecutive function, the structure becomes a bit more complex. Instead of each zone simply containing the list of data, it must now contain a list of periods, each of which is an entry like the above N_list and dd_list. For this we use"
   ]
  },
  {
   "cell_type": "code",
   "execution_count": 4,
   "metadata": {
    "pycharm": {
     "name": "#%%\n"
    }
   },
   "outputs": [
    {
     "data": {
      "text/plain": [
       "(array([ 0,  1,  3,  5,  7,  9,  9, 13, 16, 16, 13, 16, 15, 15, 16, 15, 17,\n",
       "        14, 11, 13, 14, 15, 14, 15, 15, 17, 15, 15, 16, 16, 15, 15, 13, 15,\n",
       "        15]),\n",
       " 5)"
      ]
     },
     "execution_count": 4,
     "metadata": {},
     "output_type": "execute_result"
    }
   ],
   "source": [
    "N_list, dd_list = load_lists(dates)\n",
    "np.array(N_list[-1][-1]), len(N_list[-1])"
   ]
  },
  {
   "cell_type": "markdown",
   "metadata": {
    "pycharm": {
     "name": "#%%\n"
    }
   },
   "source": [
    "There are 5 periods in this data. This can now be used to get optimal parameters for estimating both CO2 and occupancy. First of all, to calculate an estimate we pass a set of parameters along with the co2, adjacent co2 and N_lists to the estimate functions. We find the adjacent CO2 levels first"
   ]
  },
  {
   "cell_type": "code",
   "execution_count": 5,
   "metadata": {},
   "outputs": [
    {
     "name": "stdout",
     "output_type": "stream",
     "text": [
      "[0 0 0 0 0 0 0 0 0 0 0 0 0 0 0 0 0 0 0 0 0 0 0 0 0 0 0 0 0 0 0 0 0 0 0]\n",
      "[ 489.69314601  519.42755921  616.6881662   616.6881662   707.28737741\n",
      "  751.63403034  834.99190167  918.8756841   978.56812964 1069.42573256\n",
      " 1144.99972628 1144.99972628 1237.98791211 1212.59400583 1276.53116842\n",
      " 1276.53116842 1280.34860778 1255.19577744 1255.54888978 1255.54888978\n",
      " 1248.89443536 1245.68748685 1278.49903142 1296.04639213 1296.04639213\n",
      " 1257.5        1292.40197967 1291.84613884 1267.95351059 1232.48147631\n",
      " 1252.40106019 1252.         1241.04422654 1234.00074418 1266.18869062]\n"
     ]
    }
   ],
   "source": [
    "adj_list = adjacent_co2(dd_list, use_adjacent=False)\n",
    "print(np.array(adj_list[-1][-1])) # 0's if we aren't using the replacement co2\n",
    "adj_list = adjacent_co2(dd_list)\n",
    "print(np.array(adj_list[-1][-1])) # use replacement co2 by default"
   ]
  },
  {
   "cell_type": "markdown",
   "metadata": {},
   "source": [
    "Now to producing estimates, the parameters used are from optimisation done on the data available in the repository, but must simply be a tuple-like of length 4. Variable names here mirror those inside functions in the rest of the code."
   ]
  },
  {
   "cell_type": "code",
   "execution_count": 6,
   "metadata": {
    "pycharm": {
     "name": "#%%\n"
    }
   },
   "outputs": [
    {
     "name": "stdout",
     "output_type": "stream",
     "text": [
      "[-153.  -24.   96.  224.  348.   83.  216.  367.  283.   87.  267.  215.\n",
      "  148.  196.  136.  256.   74. -106.   14.   73.   25.  -62.   -0.   -0.\n",
      "   52. -128. -141.  -84.  -87. -145. -145. -266.  -90.  -71.] \n",
      " [ 3.  0. -2. -4. -6. -1. -4. -6. -5. -1. -4. -4. -2. -3. -2. -4. -1.  2.\n",
      "  0. -1.  0.  1.  0.  0. -1.  2.  2.  1.  1.  2.  2.  4.  2.  1.]\n"
     ]
    }
   ],
   "source": [
    "import pandas as pd\n",
    "from Functions import N_estimate, C_estimate\n",
    "N, C, C_adj = N_list[-1][-1], np.array(dd_list[-1][-1])[:, 1], adj_list[-1][-1]\n",
    "V = 150\n",
    "parameters = pd.read_csv('parameters/testing_2022_07_12.csv').values\n",
    "\n",
    "C_est = C_estimate(x=parameters[-1][1:], C=C, C_adj=C_adj, N=N, V=V)\n",
    "N_est = N_estimate(x=parameters[-1][1:], C=C, C_adj=C_adj, V=V)\n",
    "\n",
    "print(np.round(C_est - np.array(C[1:], dtype=int), 0), '\\n', N_est - N[1:])"
   ]
  },
  {
   "cell_type": "markdown",
   "metadata": {},
   "source": [
    "With these results, we can now go on to doing the optimisation ourselves. This is done by using the following code:"
   ]
  },
  {
   "cell_type": "code",
   "execution_count": 7,
   "metadata": {
    "pycharm": {
     "name": "#%% md\n"
    }
   },
   "outputs": [
    {
     "name": "stdout",
     "output_type": "stream",
     "text": [
      "Zone 21:\n",
      "Average CO2 Error: 235.94\n",
      "Occupancy error (proportion wrong, average error): (0.9, 3.9)\n",
      "Zone 22:\n",
      "Average CO2 Error: 85.64\n",
      "Occupancy error (proportion wrong, average error): (0.81, 1.4)\n",
      "Zone 23:\n",
      "Average CO2 Error: 170.44\n",
      "Occupancy error (proportion wrong, average error): (0.83, 2.83)\n",
      "Zone 25:\n",
      "Average CO2 Error: 185.21\n",
      "Occupancy error (proportion wrong, average error): (0.85, 3.06)\n",
      "Zone 26:\n",
      "Average CO2 Error: 276.34\n",
      "Occupancy error (proportion wrong, average error): (0.89, 4.53)\n",
      "Zone 27:\n",
      "Average CO2 Error: 166.44\n",
      "Occupancy error (proportion wrong, average error): (0.9, 2.69)\n",
      "There is no data from [1, 2, 3, 4, 5, 6, 7, 8, 9, 10, 11, 12, 13, 14, 15, 16, 17, 18, 19, 20, 24]\n"
     ]
    },
    {
     "data": {
      "text/plain": [
       "[array([1.19132186e-04, 3.50655392e-03, 4.13024649e+02, 1.00174827e+01]),\n",
       " array([1.04788562e-04, 5.78076482e-04, 3.06966439e+02, 1.00106949e+01]),\n",
       " array([1.14292020e-04, 1.28127609e-03, 3.11569558e+02, 1.00133318e+01]),\n",
       " array([2.52389868e-04, 8.12747591e-04, 4.26768702e+02, 1.00137061e+01]),\n",
       " array([1.02843533e-04, 1.83172802e-03, 4.09163631e+02, 1.00009392e+01]),\n",
       " array([1.00621651e-04, 1.31722705e-03, 3.01653715e+02, 1.00024593e+01])]"
      ]
     },
     "execution_count": 7,
     "metadata": {},
     "output_type": "execute_result"
    }
   ],
   "source": [
    "N_list, dd_list = load_lists(dates)\n",
    "optimise_occupancy(dd_list, N_list)"
   ]
  },
  {
   "cell_type": "code",
   "execution_count": null,
   "metadata": {},
   "outputs": [],
   "source": [
    "By specifying the parameter 'filename_parameters', these are saved in a .cvs file"
   ]
  },
  {
   "cell_type": "code",
   "execution_count": 8,
   "metadata": {
    "pycharm": {
     "name": "#%%\n"
    }
   },
   "outputs": [
    {
     "data": {
      "text/plain": [
       "array([2.70000000e+01, 1.00621651e-04, 1.31722705e-03, 3.01653715e+02,\n",
       "       1.00024593e+01])"
      ]
     },
     "execution_count": 8,
     "metadata": {},
     "output_type": "execute_result"
    }
   ],
   "source": [
    "parameters[-1]"
   ]
  },
  {
   "cell_type": "markdown",
   "metadata": {
    "pycharm": {
     "name": "#%%\n"
    }
   },
   "source": [
    "This is done by using the holdout function. It implements a loop in which every period is held out for validation once, using the rest to train on, using the functions"
   ]
  },
  {
   "cell_type": "code",
   "execution_count": 9,
   "metadata": {
    "pycharm": {
     "name": "#%%\n"
    }
   },
   "outputs": [
    {
     "name": "stdout",
     "output_type": "stream",
     "text": [
      "[ -35070.67  -34901.52  -34781.46  -34615.67  -34473.23  -34431.15\n",
      " -162537.6  -181139.51 -191918.63 -232155.11 -231975.03 -231988.11\n",
      " -232000.93 -262474.63 -262534.66 -262412.68 -262605.46 -262785.36\n",
      " -262665.31 -262608.64 -262550.23 -313448.84 -313379.96 -313379.96\n",
      " -313279.36 -343518.18 -365649.87 -365601.91 -365619.81 -365669.79\n",
      " -365669.99 -365795.57 -365679.08 -338718.34]\n",
      "[ 593.  592.  592.  592.  591.  595. 2734. 3047. 3228. 3896. 3896. 3895.\n",
      " 3896. 4405. 4405. 4405. 4405. 4405. 4405. 4405. 4407. 5254. 5254. 5254.\n",
      " 5255. 5757. 6126. 6126. 6127. 6127. 6127. 6127. 6126. 5677.]\n"
     ]
    }
   ],
   "source": [
    "x = [5.60909938e-04, 5.23751349e-01, 4.08750184e+02, 1.00045759e+01]\n",
    "C_est = C_estimate(x=x, C=C, C_adj=C_adj, N=N, V=V)\n",
    "print(C_est)\n",
    "N_est = N_estimate(x=x, C=C, C_adj=C_adj, V=V)\n",
    "print(N_est)"
   ]
  }
 ],
 "metadata": {
  "kernelspec": {
   "display_name": "Python 3 (ipykernel)",
   "language": "python",
   "name": "python3"
  },
  "language_info": {
   "codemirror_mode": {
    "name": "ipython",
    "version": 3
   },
   "file_extension": ".py",
   "mimetype": "text/x-python",
   "name": "python",
   "nbconvert_exporter": "python",
   "pygments_lexer": "ipython3",
   "version": "3.10.5"
  }
 },
 "nbformat": 4,
 "nbformat_minor": 1
}
